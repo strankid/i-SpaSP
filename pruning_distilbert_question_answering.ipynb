{
  "cells": [
    {
      "cell_type": "markdown",
      "source": [
        "## save to drive"
      ],
      "metadata": {
        "id": "hj1sHOfZvUjJ"
      }
    },
    {
      "cell_type": "code",
      "source": [
        "from google.colab import drive\n",
        "drive.mount('/content/gdrive')"
      ],
      "metadata": {
        "colab": {
          "base_uri": "https://localhost:8080/"
        },
        "id": "eFm_bIN6vUAv",
        "outputId": "5159e77d-98af-4a2d-f28a-fa3173fb58ed"
      },
      "execution_count": null,
      "outputs": [
        {
          "output_type": "stream",
          "name": "stdout",
          "text": [
            "Mounted at /content/gdrive\n"
          ]
        }
      ]
    },
    {
      "cell_type": "code",
      "source": [
        "!mv /content/pruned_transformer30pct.pth /content/pruned_transformer30pct_all_layers.pth"
      ],
      "metadata": {
        "id": "Z2lUpeg--lGC"
      },
      "execution_count": null,
      "outputs": []
    },
    {
      "cell_type": "code",
      "source": [
        "!cp /content/pruned_transformer30pct_all_layers.pth /content/gdrive/MyDrive/Research/Data/"
      ],
      "metadata": {
        "id": "Ptf7KN_JSiwk"
      },
      "execution_count": null,
      "outputs": []
    },
    {
      "cell_type": "markdown",
      "metadata": {
        "id": "O3qZ8rlt8Qpz"
      },
      "source": [
        "## imports"
      ]
    },
    {
      "cell_type": "code",
      "execution_count": null,
      "metadata": {
        "id": "jMSxS7ly3Tzl",
        "colab": {
          "base_uri": "https://localhost:8080/"
        },
        "outputId": "096dc14c-d93c-449d-a064-370f3da44a80"
      },
      "outputs": [
        {
          "output_type": "stream",
          "name": "stdout",
          "text": [
            "Collecting transformers\n",
            "  Downloading transformers-4.31.0-py3-none-any.whl (7.4 MB)\n",
            "\u001b[2K     \u001b[90m━━━━━━━━━━━━━━━━━━━━━━━━━━━━━━━━━━━━━━━━\u001b[0m \u001b[32m7.4/7.4 MB\u001b[0m \u001b[31m13.6 MB/s\u001b[0m eta \u001b[36m0:00:00\u001b[0m\n",
            "\u001b[?25hCollecting datasets\n",
            "  Downloading datasets-2.14.1-py3-none-any.whl (492 kB)\n",
            "\u001b[2K     \u001b[90m━━━━━━━━━━━━━━━━━━━━━━━━━━━━━━━━━━━━━━\u001b[0m \u001b[32m492.4/492.4 kB\u001b[0m \u001b[31m29.7 MB/s\u001b[0m eta \u001b[36m0:00:00\u001b[0m\n",
            "\u001b[?25hCollecting evaluate\n",
            "  Downloading evaluate-0.4.0-py3-none-any.whl (81 kB)\n",
            "\u001b[2K     \u001b[90m━━━━━━━━━━━━━━━━━━━━━━━━━━━━━━━━━━━━━━━━\u001b[0m \u001b[32m81.4/81.4 kB\u001b[0m \u001b[31m9.3 MB/s\u001b[0m eta \u001b[36m0:00:00\u001b[0m\n",
            "\u001b[?25hRequirement already satisfied: filelock in /usr/local/lib/python3.10/dist-packages (from transformers) (3.12.2)\n",
            "Collecting huggingface-hub<1.0,>=0.14.1 (from transformers)\n",
            "  Downloading huggingface_hub-0.16.4-py3-none-any.whl (268 kB)\n",
            "\u001b[2K     \u001b[90m━━━━━━━━━━━━━━━━━━━━━━━━━━━━━━━━━━━━━━\u001b[0m \u001b[32m268.8/268.8 kB\u001b[0m \u001b[31m13.6 MB/s\u001b[0m eta \u001b[36m0:00:00\u001b[0m\n",
            "\u001b[?25hRequirement already satisfied: numpy>=1.17 in /usr/local/lib/python3.10/dist-packages (from transformers) (1.22.4)\n",
            "Requirement already satisfied: packaging>=20.0 in /usr/local/lib/python3.10/dist-packages (from transformers) (23.1)\n",
            "Requirement already satisfied: pyyaml>=5.1 in /usr/local/lib/python3.10/dist-packages (from transformers) (6.0.1)\n",
            "Requirement already satisfied: regex!=2019.12.17 in /usr/local/lib/python3.10/dist-packages (from transformers) (2022.10.31)\n",
            "Requirement already satisfied: requests in /usr/local/lib/python3.10/dist-packages (from transformers) (2.27.1)\n",
            "Collecting tokenizers!=0.11.3,<0.14,>=0.11.1 (from transformers)\n",
            "  Downloading tokenizers-0.13.3-cp310-cp310-manylinux_2_17_x86_64.manylinux2014_x86_64.whl (7.8 MB)\n",
            "\u001b[2K     \u001b[90m━━━━━━━━━━━━━━━━━━━━━━━━━━━━━━━━━━━━━━━━\u001b[0m \u001b[32m7.8/7.8 MB\u001b[0m \u001b[31m24.0 MB/s\u001b[0m eta \u001b[36m0:00:00\u001b[0m\n",
            "\u001b[?25hCollecting safetensors>=0.3.1 (from transformers)\n",
            "  Downloading safetensors-0.3.1-cp310-cp310-manylinux_2_17_x86_64.manylinux2014_x86_64.whl (1.3 MB)\n",
            "\u001b[2K     \u001b[90m━━━━━━━━━━━━━━━━━━━━━━━━━━━━━━━━━━━━━━━━\u001b[0m \u001b[32m1.3/1.3 MB\u001b[0m \u001b[31m19.4 MB/s\u001b[0m eta \u001b[36m0:00:00\u001b[0m\n",
            "\u001b[?25hRequirement already satisfied: tqdm>=4.27 in /usr/local/lib/python3.10/dist-packages (from transformers) (4.65.0)\n",
            "Requirement already satisfied: pyarrow>=8.0.0 in /usr/local/lib/python3.10/dist-packages (from datasets) (9.0.0)\n",
            "Collecting dill<0.3.8,>=0.3.0 (from datasets)\n",
            "  Downloading dill-0.3.7-py3-none-any.whl (115 kB)\n",
            "\u001b[2K     \u001b[90m━━━━━━━━━━━━━━━━━━━━━━━━━━━━━━━━━━━━━━━\u001b[0m \u001b[32m115.3/115.3 kB\u001b[0m \u001b[31m8.6 MB/s\u001b[0m eta \u001b[36m0:00:00\u001b[0m\n",
            "\u001b[?25hRequirement already satisfied: pandas in /usr/local/lib/python3.10/dist-packages (from datasets) (1.5.3)\n",
            "Collecting xxhash (from datasets)\n",
            "  Downloading xxhash-3.2.0-cp310-cp310-manylinux_2_17_x86_64.manylinux2014_x86_64.whl (212 kB)\n",
            "\u001b[2K     \u001b[90m━━━━━━━━━━━━━━━━━━━━━━━━━━━━━━━━━━━━━━━\u001b[0m \u001b[32m212.5/212.5 kB\u001b[0m \u001b[31m3.6 MB/s\u001b[0m eta \u001b[36m0:00:00\u001b[0m\n",
            "\u001b[?25hCollecting multiprocess (from datasets)\n",
            "  Downloading multiprocess-0.70.15-py310-none-any.whl (134 kB)\n",
            "\u001b[2K     \u001b[90m━━━━━━━━━━━━━━━━━━━━━━━━━━━━━━━━━━━━━━\u001b[0m \u001b[32m134.8/134.8 kB\u001b[0m \u001b[31m11.2 MB/s\u001b[0m eta \u001b[36m0:00:00\u001b[0m\n",
            "\u001b[?25hRequirement already satisfied: fsspec[http]>=2021.11.1 in /usr/local/lib/python3.10/dist-packages (from datasets) (2023.6.0)\n",
            "Requirement already satisfied: aiohttp in /usr/local/lib/python3.10/dist-packages (from datasets) (3.8.5)\n",
            "Collecting responses<0.19 (from evaluate)\n",
            "  Downloading responses-0.18.0-py3-none-any.whl (38 kB)\n",
            "Requirement already satisfied: attrs>=17.3.0 in /usr/local/lib/python3.10/dist-packages (from aiohttp->datasets) (23.1.0)\n",
            "Requirement already satisfied: charset-normalizer<4.0,>=2.0 in /usr/local/lib/python3.10/dist-packages (from aiohttp->datasets) (2.0.12)\n",
            "Requirement already satisfied: multidict<7.0,>=4.5 in /usr/local/lib/python3.10/dist-packages (from aiohttp->datasets) (6.0.4)\n",
            "Requirement already satisfied: async-timeout<5.0,>=4.0.0a3 in /usr/local/lib/python3.10/dist-packages (from aiohttp->datasets) (4.0.2)\n",
            "Requirement already satisfied: yarl<2.0,>=1.0 in /usr/local/lib/python3.10/dist-packages (from aiohttp->datasets) (1.9.2)\n",
            "Requirement already satisfied: frozenlist>=1.1.1 in /usr/local/lib/python3.10/dist-packages (from aiohttp->datasets) (1.4.0)\n",
            "Requirement already satisfied: aiosignal>=1.1.2 in /usr/local/lib/python3.10/dist-packages (from aiohttp->datasets) (1.3.1)\n",
            "Requirement already satisfied: typing-extensions>=3.7.4.3 in /usr/local/lib/python3.10/dist-packages (from huggingface-hub<1.0,>=0.14.1->transformers) (4.7.1)\n",
            "Requirement already satisfied: urllib3<1.27,>=1.21.1 in /usr/local/lib/python3.10/dist-packages (from requests->transformers) (1.26.16)\n",
            "Requirement already satisfied: certifi>=2017.4.17 in /usr/local/lib/python3.10/dist-packages (from requests->transformers) (2023.7.22)\n",
            "Requirement already satisfied: idna<4,>=2.5 in /usr/local/lib/python3.10/dist-packages (from requests->transformers) (3.4)\n",
            "Requirement already satisfied: python-dateutil>=2.8.1 in /usr/local/lib/python3.10/dist-packages (from pandas->datasets) (2.8.2)\n",
            "Requirement already satisfied: pytz>=2020.1 in /usr/local/lib/python3.10/dist-packages (from pandas->datasets) (2022.7.1)\n",
            "Requirement already satisfied: six>=1.5 in /usr/local/lib/python3.10/dist-packages (from python-dateutil>=2.8.1->pandas->datasets) (1.16.0)\n",
            "Installing collected packages: tokenizers, safetensors, xxhash, dill, responses, multiprocess, huggingface-hub, transformers, datasets, evaluate\n",
            "Successfully installed datasets-2.14.1 dill-0.3.7 evaluate-0.4.0 huggingface-hub-0.16.4 multiprocess-0.70.15 responses-0.18.0 safetensors-0.3.1 tokenizers-0.13.3 transformers-4.31.0 xxhash-3.2.0\n"
          ]
        }
      ],
      "source": [
        "!pip install transformers datasets evaluate"
      ]
    },
    {
      "cell_type": "code",
      "execution_count": null,
      "metadata": {
        "id": "H6cnbDGc3XrM"
      },
      "outputs": [],
      "source": [
        "from transformers import DistilBertTokenizer, DistilBertForQuestionAnswering\n",
        "from datasets import load_dataset\n",
        "from evaluate import load\n",
        "from transformers.data.metrics import squad_metrics\n",
        "\n",
        "import torch\n",
        "import torch.nn as nn\n",
        "import torch.optim as optim\n",
        "import torch.optim.lr_scheduler as lr_scheduler\n",
        "from torch.utils.data import Dataset, DataLoader\n",
        "\n",
        "from tqdm import tqdm\n",
        "\n",
        "from copy import deepcopy\n",
        "import math\n",
        "import random\n",
        "from transformers.pytorch_utils import find_pruneable_heads_and_indices\n",
        "import time"
      ]
    },
    {
      "cell_type": "markdown",
      "metadata": {
        "id": "bkTKpTdEQPaF"
      },
      "source": [
        "## pruning algorithm steps"
      ]
    },
    {
      "cell_type": "markdown",
      "metadata": {
        "id": "VdryzDILQYua"
      },
      "source": [
        "### step 1: compute gradient"
      ]
    },
    {
      "cell_type": "code",
      "execution_count": null,
      "metadata": {
        "id": "cH_MvkuUQTjJ"
      },
      "outputs": [],
      "source": [
        "def compute_grads(layer, H, U, attn_mask, head_mask, device='cpu'):\n",
        "  # layer = layer.to(device)\n",
        "  # attn_mask = attn_mask.to(device)\n",
        "\n",
        "  # query, key, value = H.to(device), H.to(device), H.to(device)\n",
        "  query, key, value = H, H, H\n",
        "  attn = layer(H, H, H, attn_mask, head_mask=head_mask, output_attentions=False)[-1]\n",
        "  attn.retain_grad()\n",
        "\n",
        "  loss = residual_objective(attn - U)\n",
        "  loss.backward()\n",
        "\n",
        "  dA = attn.grad # attn.grad should be = attn - U\n",
        "  # maybe instead of using attn grad, should aggregate parameter grads? either for weights only or for all\n",
        "\n",
        "  with torch.no_grad():\n",
        "    grad_dict = {}\n",
        "    for name, parameter in layer.named_parameters():\n",
        "      grad_dict[name] = parameter.grad\n",
        "\n",
        "    layer.zero_grad()\n",
        "    attn.grad = None\n",
        "\n",
        "    dA_sep = separate_heads(dA, dA.shape[0], layer.n_heads, layer.dim // layer.n_heads)\n",
        "\n",
        "  return dA_sep, grad_dict, loss.item()"
      ]
    },
    {
      "cell_type": "markdown",
      "metadata": {
        "id": "8EN5SnK6QiTb"
      },
      "source": [
        "### step 2: find best s columns of grad outside S and merge with S"
      ]
    },
    {
      "cell_type": "code",
      "execution_count": null,
      "metadata": {
        "id": "KEWVnQeLQhkD"
      },
      "outputs": [],
      "source": [
        "@torch.no_grad()\n",
        "def find_and_merge(dA, S, n_heads_to_keep, device='cpu'):\n",
        "  dA = dA.to(device)\n",
        "  importance = torch.norm(dA, p=2, dim=(0, 2, 3))\n",
        "  del dA\n",
        "  for index in S:\n",
        "    importance[index] = 0\n",
        "  imp_top_idxs = torch.argsort(importance, descending=True)[:n_heads_to_keep]\n",
        "  imp_top_idxs = set(imp_top_idxs.tolist())\n",
        "  # print(f'top idxs of grad: {imp_top_idxs}, S: {S}')\n",
        "  D = S.union(imp_top_idxs)\n",
        "\n",
        "  return D"
      ]
    },
    {
      "cell_type": "markdown",
      "metadata": {
        "id": "K0mGPnklQ6RB"
      },
      "source": [
        "### step 3: update parameters by gradient descent focused on D"
      ]
    },
    {
      "cell_type": "code",
      "execution_count": null,
      "metadata": {
        "id": "SWNeUbvIQ5zD"
      },
      "outputs": [],
      "source": [
        "@torch.no_grad()\n",
        "def update_step(Q, grad_dict, qkv_optimizer, out_optimizer, D, device=None):\n",
        "  for name, Q_param in Q.named_parameters():\n",
        "    if name in grad_dict:\n",
        "      Q_param.grad = grad_dict[name]\n",
        "    else:\n",
        "      print(f'No gradient for {name}')\n",
        "\n",
        "  indexer = get_mask_indexer(D, Q.n_heads, Q.attention_head_size)\n",
        "  qkv_optimizer.step(indexer)\n",
        "  out_optimizer.step(indexer)\n",
        "  return Q"
      ]
    },
    {
      "cell_type": "markdown",
      "metadata": {
        "id": "Mzzs5h5eRbBZ"
      },
      "source": [
        "### step 4: truncate Q to be s-sparse"
      ]
    },
    {
      "cell_type": "code",
      "execution_count": null,
      "metadata": {
        "id": "rWLNhMImRgwn"
      },
      "outputs": [],
      "source": [
        "@torch.no_grad()\n",
        "def truncate(Q, H, U, attn_mask, head_mask, n_heads_to_keep, device='cpu'):\n",
        "  attn = Q(H, H, H, attn_mask, head_mask=head_mask, output_attentions=False)[-1] # can also compute some norm over the different params\n",
        "  attn_sep = separate_heads(attn, attn.shape[0], Q.n_heads, Q.dim // Q.n_heads)\n",
        "  attn_imp = torch.norm(attn_sep, p=2, dim=(0, 2, 3))\n",
        "  imp_top_idxs = torch.argsort(attn_imp, descending=True)[:n_heads_to_keep]\n",
        "  S = set(imp_top_idxs.cpu().tolist())\n",
        "\n",
        "  layer = deepcopy(Q)\n",
        "  layer = zero_out(S, layer)\n",
        "\n",
        "  # q = Q.q_lin.weight.data\n",
        "  # q_sep = q.view(12, 64, 768)\n",
        "  # print(torch.norm(q_sep, p=2, dim=(1, 2)))\n",
        "  # qb = Q.q_lin.bias.data\n",
        "  # qb_sep = qb.view(12, 64)\n",
        "  # print(torch.norm(qb_sep, p=2, dim=(1)))\n",
        "\n",
        "\n",
        "  return layer, S"
      ]
    },
    {
      "cell_type": "markdown",
      "metadata": {
        "id": "1il8obD1Ru_C"
      },
      "source": [
        "### step 5: debias"
      ]
    },
    {
      "cell_type": "code",
      "execution_count": null,
      "metadata": {
        "id": "OvcRPgoWRxNg"
      },
      "outputs": [],
      "source": [
        "def debias(pruned_layer, Q, S, H, U, qkv_optimizer, out_optimizer, iters, attn_mask, head_mask, eta=None, device='cpu'):\n",
        "  # optimizer = optim.SGD(pruned_layer.parameters())\n",
        "  for i in range(iters):\n",
        "    pruned_layer.zero_grad()\n",
        "\n",
        "    attn = pruned_layer(H, H, H, attn_mask, head_mask=head_mask, output_attentions=False)[-1]\n",
        "    loss = residual_objective(attn - U)\n",
        "    loss.backward()\n",
        "\n",
        "    with torch.no_grad():\n",
        "      not_S_indexer = get_mask_indexer(S, pruned_layer.n_heads, pruned_layer.attention_head_size)\n",
        "      for (Q_name, Q_param), (W_name, W_param) in zip(Q.named_parameters(), pruned_layer.named_parameters()):\n",
        "        assert Q_name == W_name, f\"param name mismatch. Q param = {Q_name}, W param = {W_name}\"\n",
        "        Q_param.grad = W_param.grad\n",
        "\n",
        "      qkv_optimizer.step()\n",
        "      out_optimizer.step()\n",
        "\n",
        "      S_indexer = get_mask_indexer(set(range(pruned_layer.n_heads)).difference(S), pruned_layer.n_heads, pruned_layer.attention_head_size)\n",
        "\n",
        "      for (name, Q_param), (W_param) in zip(Q.named_parameters(), pruned_layer.parameters()):\n",
        "        if 'bias' in name:\n",
        "          if 'out' in name:\n",
        "            pass\n",
        "          else:\n",
        "            W_param.data[S_indexer] = Q_param.data[S_indexer]\n",
        "        else:\n",
        "          if 'out' in name:\n",
        "            W_param.data[:, S_indexer] = Q_param.data[:, S_indexer]\n",
        "          else:\n",
        "            W_param.data[S_indexer, :] = Q_param.data[S_indexer, :]\n",
        "\n",
        "  return pruned_layer, Q"
      ]
    },
    {
      "cell_type": "markdown",
      "source": [
        "## pruning algorithm utils"
      ],
      "metadata": {
        "id": "IHk6P4I8Gxdw"
      }
    },
    {
      "cell_type": "code",
      "source": [
        "def validate(args, model, ids, inputs, answers, metric, device='cpu'):\n",
        "  model = model.to(device)\n",
        "  inputs = inputs.to(device)\n",
        "  with torch.no_grad():\n",
        "    start_sp = time.time()\n",
        "    outputs_sp = model(**inputs)\n",
        "    end_sp = time.time()\n",
        "    if args.verbose:\n",
        "      print(f'done predicting using sparse model. time elapsed = {end_sp - start_sp}s')\n",
        "\n",
        "  model = model.cpu()\n",
        "  inputs = inputs.to('cpu')\n",
        "\n",
        "  num_examples = len(ids)\n",
        "  preds = []\n",
        "  refs = []\n",
        "  for i in range(num_examples):\n",
        "    answer_start_index_sp = torch.argmax(outputs_sp.start_logits[i])\n",
        "    answer_end_index_sp = torch.argmax(outputs_sp.end_logits[i])\n",
        "    predict_answer_tokens_sp = inputs.input_ids[i, answer_start_index_sp : answer_end_index_sp + 1]\n",
        "    pred_sp = tokenizer.decode(predict_answer_tokens_sp)\n",
        "\n",
        "    pred = {'id': ids[i], 'prediction_text': pred_sp}\n",
        "    preds.append(pred)\n",
        "    ref = {'answers': answers[i], 'id': ids[i]}\n",
        "    refs.append(ref)\n",
        "\n",
        "  results = metric.compute(predictions=preds, references=refs)\n",
        "\n",
        "  #   possible_answers = answers[i]['text']\n",
        "  #   for j in range(len(possible_answers)):\n",
        "  #     possible_answers[j] = possible_answers[j].lower()\n",
        "\n",
        "  #   correct_sp = int(answer_sp in possible_answers)\n",
        "\n",
        "  #   if args.verbose:\n",
        "  #     print('\\nTEXT:', texts[i])\n",
        "  #     print('QUESTION:', questions[i])\n",
        "  #     print('MODEL ANSWER:', answer_sp)\n",
        "  #     print('EXPECTED ANSWER:', possible_answers)\n",
        "  #     print('CORRECT' if correct_sp else 'WRONG')\n",
        "\n",
        "  #   total_correct_sp += correct_sp\n",
        "\n",
        "  # avg_correct_sp = total_correct_sp / num_examples\n",
        "\n",
        "  # if args.verbose:\n",
        "  #   print('validation accuracy:', avg_correct_sp*100)\n",
        "\n",
        "  return results"
      ],
      "metadata": {
        "id": "JBp0XKExQ7Wz"
      },
      "execution_count": null,
      "outputs": []
    },
    {
      "cell_type": "code",
      "source": [
        "class SparseAdam(torch.optim.Optimizer):\n",
        "  def __init__(self, params, lr=5e-5, betas=(0.9, 0.999), eps=1e-8, correct_bias=False, sparsity='row'):\n",
        "    if lr < 0.0:\n",
        "        raise ValueError(f\"Invalid learning rate: {lr} - should be >= 0.0\")\n",
        "    if not 0.0 <= betas[0] < 1.0:\n",
        "        raise ValueError(f\"Invalid beta parameter: {betas[0]} - should be in [0.0, 1.0)\")\n",
        "    if not 0.0 <= betas[1] < 1.0:\n",
        "        raise ValueError(f\"Invalid beta parameter: {betas[1]} - should be in [0.0, 1.0)\")\n",
        "    if not 0.0 <= eps:\n",
        "        raise ValueError(f\"Invalid epsilon value: {eps} - should be >= 0.0\")\n",
        "    if sparsity != 'col' and sparsity != 'row':\n",
        "        raise ValueError(f\"Invalid sparsity value: {sparsity} - must be 'row' or 'col'\")\n",
        "\n",
        "    defaults = dict(lr=lr, betas=betas, eps=eps, correct_bias=correct_bias, sparsity=sparsity)\n",
        "    super(SparseAdam, self).__init__(params, defaults)\n",
        "\n",
        "  def step(self, indexer):\n",
        "    for group in self.param_groups:\n",
        "      for p in group[\"params\"]:\n",
        "        if p.grad is None:\n",
        "          continue\n",
        "        grad = p.grad\n",
        "\n",
        "        sparsity = group[\"sparsity\"]\n",
        "        if sparsity == 'row':\n",
        "          grad[indexer] = 0 # zero out grad\n",
        "        elif sparsity == 'col':\n",
        "          grad[:, indexer] = 0\n",
        "\n",
        "        state = self.state[p]\n",
        "\n",
        "        # State initialization\n",
        "        if len(state) == 0:\n",
        "          state[\"step\"] = 0\n",
        "          # Exponential moving average of gradient values\n",
        "          state[\"m\"] = torch.zeros_like(p)\n",
        "          # Exponential moving average of squared gradient values\n",
        "          state[\"v\"] = torch.zeros_like(p)\n",
        "\n",
        "        m_tm1, v_tm1 = state[\"m\"], state[\"v\"]\n",
        "        beta1, beta2 = group[\"betas\"]\n",
        "\n",
        "        state[\"step\"] += 1\n",
        "\n",
        "        m_t = beta1 * m_tm1 + (1 - beta1) * grad\n",
        "        if sparsity == 'row':\n",
        "          m_t[indexer] = 0 # zero out m_t\n",
        "        elif sparsity == 'col':\n",
        "          m_t[:, indexer] = 0\n",
        "\n",
        "        v_t = beta2 * v_tm1 + (1 - beta2) * torch.pow(grad, 2)\n",
        "        if sparsity == 'row':\n",
        "          v_t[indexer] = 0 # zero out v_t\n",
        "        elif sparsity == 'col':\n",
        "          v_t[:, indexer] = 0\n",
        "\n",
        "        step_size = group[\"lr\"]\n",
        "        if group[\"correct_bias\"]:  # No bias correction for Bert\n",
        "          bias_correction1 = 1.0 - beta1 ** state[\"step\"]\n",
        "          bias_correction2 = 1.0 - beta2 ** state[\"step\"]\n",
        "          step_size = step_size * math.sqrt(bias_correction2) / bias_correction1\n",
        "\n",
        "        p.data = p.data - step_size * m_t / (torch.sqrt(v_t) + group[\"eps\"])\n",
        "\n",
        "        state[\"m\"] = m_t\n",
        "        state[\"v\"] = v_t"
      ],
      "metadata": {
        "id": "qGFGqfZMTwnK"
      },
      "execution_count": null,
      "outputs": []
    },
    {
      "cell_type": "code",
      "source": [
        "class InputDataset(Dataset):\n",
        "  def __init__(self, attn_masks, hidden_states):\n",
        "    self.attn_masks = attn_masks\n",
        "    self.hidden_states = hidden_states\n",
        "\n",
        "  def __len__(self):\n",
        "    return self.hidden_states.shape[0]\n",
        "\n",
        "  def __getitem__(self, idx):\n",
        "    return self.attn_masks[idx], self.hidden_states[idx]"
      ],
      "metadata": {
        "id": "4nbbdg8iGbaP"
      },
      "execution_count": null,
      "outputs": []
    },
    {
      "cell_type": "code",
      "source": [
        "@torch.no_grad()\n",
        "def zero_out(S, layer):\n",
        "  heads_to_keep = S\n",
        "  heads_to_prune = set(range(layer.n_heads)).difference(heads_to_keep)\n",
        "  indexer_to_prune = get_mask_indexer(heads_to_keep, layer.n_heads, layer.attention_head_size)\n",
        "\n",
        "  for name, parameter in layer.named_parameters():\n",
        "    if 'bias' in name:\n",
        "      if 'out' in name:\n",
        "        pass\n",
        "      else:\n",
        "        parameter.data[indexer_to_prune] = 0\n",
        "    else:\n",
        "      if 'out' in name:\n",
        "        parameter.data[:, indexer_to_prune] = 0\n",
        "      else:\n",
        "        parameter.data[indexer_to_prune, :] = 0\n",
        "\n",
        "  return layer"
      ],
      "metadata": {
        "id": "2ODn5ilUs80T"
      },
      "execution_count": null,
      "outputs": []
    },
    {
      "cell_type": "code",
      "source": [
        "def get_transformer_arguments(\n",
        "    model,\n",
        "    input_ids = None,\n",
        "    attention_mask = None,\n",
        "    head_mask = None,\n",
        "    inputs_embeds = None,\n",
        "    output_attentions = None,\n",
        "    output_hidden_states = None,\n",
        "    return_dict = None):\n",
        "\n",
        "  output_attentions = output_attentions if output_attentions is not None else model.config.output_attentions\n",
        "  output_hidden_states = (\n",
        "      output_hidden_states if output_hidden_states is not None else model.config.output_hidden_states\n",
        "  )\n",
        "  return_dict = return_dict if return_dict is not None else model.config.use_return_dict\n",
        "\n",
        "  if input_ids is not None and inputs_embeds is not None:\n",
        "      raise ValueError(\"You cannot specify both input_ids and inputs_embeds at the same time\")\n",
        "  elif input_ids is not None:\n",
        "      input_shape = input_ids.size()\n",
        "  elif inputs_embeds is not None:\n",
        "      input_shape = inputs_embeds.size()[:-1]\n",
        "  else:\n",
        "      raise ValueError(\"You have to specify either input_ids or inputs_embeds\")\n",
        "\n",
        "  device = input_ids.device if input_ids is not None else inputs_embeds.device\n",
        "\n",
        "  if attention_mask is None:\n",
        "      attention_mask = torch.ones(input_shape, device=device)  # (bs, seq_length)\n",
        "\n",
        "  # Prepare head mask if needed\n",
        "  head_mask = model.get_head_mask(head_mask, model.config.num_hidden_layers)\n",
        "\n",
        "  arguments = ({\n",
        "                'output_attentions': output_attentions,\n",
        "                'output_hidden_states': output_hidden_states,\n",
        "                'return_dict': return_dict,\n",
        "                'head_mask': head_mask,\n",
        "                'attn_mask': attention_mask,\n",
        "              })\n",
        "\n",
        "  return arguments"
      ],
      "metadata": {
        "id": "7Wvi88qm4MMr"
      },
      "execution_count": null,
      "outputs": []
    },
    {
      "cell_type": "code",
      "execution_count": null,
      "metadata": {
        "id": "E4Up0qXPZZV4"
      },
      "outputs": [],
      "source": [
        "def get_data(d_name):\n",
        "  dataset = load_dataset(d_name)\n",
        "  train_dataset = dataset['train']\n",
        "  test_ds = dataset['validation']\n",
        "\n",
        "  split_ds = train_dataset.train_test_split(test_size=0.1)\n",
        "  train_ds = split_ds['train']\n",
        "  val_ds = split_ds['test']\n",
        "  return train_ds, val_ds, test_ds"
      ]
    },
    {
      "cell_type": "code",
      "source": [
        "@torch.no_grad()\n",
        "def get_mask_indexer(heads_to_keep, n_heads, head_size):\n",
        "  mask = torch.ones(n_heads, head_size)\n",
        "  for head in heads_to_keep:\n",
        "      mask[head] = 0\n",
        "  mask = mask.view(-1).contiguous().eq(1)\n",
        "  index = torch.arange(len(mask))[mask].long()\n",
        "  return index"
      ],
      "metadata": {
        "id": "uaLImWUA4tJF"
      },
      "execution_count": null,
      "outputs": []
    },
    {
      "cell_type": "code",
      "source": [
        "# separate heads\n",
        "def separate_heads(x, bs, n_heads, dim_per_head):\n",
        "  return x.view(bs, -1, n_heads, dim_per_head).transpose(1, 2)"
      ],
      "metadata": {
        "id": "nCdi4ji1e8zY"
      },
      "execution_count": null,
      "outputs": []
    },
    {
      "cell_type": "code",
      "source": [
        "class dotdict:\n",
        "    def __init__(self, dictionary):\n",
        "        for key, value in dictionary.items():\n",
        "            if isinstance(value, dict):\n",
        "                setattr(self, key, dotdict(value))\n",
        "            else:\n",
        "                setattr(self, key, value)"
      ],
      "metadata": {
        "id": "ztlD4tsK1-qd"
      },
      "execution_count": null,
      "outputs": []
    },
    {
      "cell_type": "code",
      "source": [
        "def residual_objective(mat):\n",
        "    return 0.5 * torch.mean(mat**2) # using torch.sum requires small stepsize (order of 1e-5)"
      ],
      "metadata": {
        "id": "noQozIrwKQyn"
      },
      "execution_count": null,
      "outputs": []
    },
    {
      "cell_type": "markdown",
      "source": [
        "## prune model"
      ],
      "metadata": {
        "id": "J4SaqDZ-t86w"
      }
    },
    {
      "cell_type": "code",
      "execution_count": null,
      "metadata": {
        "id": "tNKIod7ST5Td"
      },
      "outputs": [],
      "source": [
        "def prune_distilbert(args, model=None, tokenizer=None, train_ds=None, val_ds=None, test_ds=None, device='cpu'):\n",
        "  if train_ds is None and test_ds is None and val_ds is None:\n",
        "    train_ds, val_ds, test_ds = get_data('squad')\n",
        "  if tokenizer is None:\n",
        "    tokenizer = DistilBertTokenizer.from_pretrained('distilbert-base-uncased-distilled-squad')\n",
        "  if model is None:\n",
        "    model = DistilBertForQuestionAnswering.from_pretrained('distilbert-base-uncased-distilled-squad')\n",
        "\n",
        "  questions = train_ds['question']\n",
        "  texts = train_ds['context']\n",
        "\n",
        "  inputs = tokenizer(\n",
        "        questions,\n",
        "        texts,\n",
        "        max_length=512,\n",
        "        truncation=\"only_second\",\n",
        "        stride=128,\n",
        "        padding=\"max_length\",\n",
        "        return_tensors='pt'\n",
        "  )\n",
        "\n",
        "  embedder = model.distilbert.embeddings\n",
        "  transformer = model.distilbert.transformer\n",
        "\n",
        "  transformer_arguments = get_transformer_arguments(model, **inputs)\n",
        "\n",
        "  with torch.no_grad():\n",
        "    embeddings = embedder(inputs.input_ids)\n",
        "\n",
        "  val_arguments = {}\n",
        "  if args.validate_iter or args.validate_layer:\n",
        "    assert val_ds is not None\n",
        "    start_idx = torch.randint(low=0, high=len(questions) - args.val_size, size=(1,)).item()\n",
        "\n",
        "    val_ids = val_ds['id'][start_idx : start_idx + args.val_size]\n",
        "    val_questions =  val_ds['question'][start_idx : start_idx + args.val_size]\n",
        "    val_texts =  val_ds['context'][start_idx : start_idx + args.val_size]\n",
        "    val_answers =  val_ds['answers'][start_idx : start_idx + args.val_size]\n",
        "\n",
        "    val_inputs = tokenizer(\n",
        "          val_questions,\n",
        "          val_texts,\n",
        "          max_length=512,\n",
        "          truncation=\"only_second\",\n",
        "          stride=128,\n",
        "          padding=\"max_length\",\n",
        "          return_tensors='pt'\n",
        "    )\n",
        "\n",
        "    val_arguments['ids'] = val_ids\n",
        "    val_arguments['inputs'] = val_inputs\n",
        "    val_arguments['answers'] = val_answers\n",
        "    val_arguments['model'] = deepcopy(model)\n",
        "    val_arguments['metric'] = load(args.dataset)\n",
        "\n",
        "  pruned_transformer, val_mets = prune_transformer(args, transformer, embeddings, val_arguments, **transformer_arguments, device=device)\n",
        "\n",
        "  if args.save_model:\n",
        "    torch.save(pruned_transformer.state_dict(), '/content/pruned_transformer30pct.pth')\n",
        "  return val_mets"
      ]
    },
    {
      "cell_type": "markdown",
      "source": [
        "## prune transformer"
      ],
      "metadata": {
        "id": "b-Lz-tIdt6VW"
      }
    },
    {
      "cell_type": "code",
      "execution_count": null,
      "metadata": {
        "id": "21TX249ITqQu"
      },
      "outputs": [],
      "source": [
        "def prune_transformer(args, transformer, hidden_states, val_arguments, validate_iter=False, attn_mask=None, output_attentions=None, head_mask=None, output_hidden_states=None, return_dict=None, device='cpu'):\n",
        "  pruned_transformer = deepcopy(transformer)\n",
        "  layers = pruned_transformer.layer\n",
        "\n",
        "  all_val_mets = {}\n",
        "  if args.validate_layer or args.validate_iter:\n",
        "    val_arguments['model'].distilbert.transformer = pruned_transformer\n",
        "    mets = validate(args, **val_arguments, device=device)\n",
        "    all_val_mets['pre-pruning'] = mets\n",
        "    print(f'Pre-pruning validation metrics = {mets}')\n",
        "\n",
        "  for i, layer in enumerate(layers[:]):\n",
        "    if i < args.min_layer or i > args.max_layer:\n",
        "      continue\n",
        "    input_ds = InputDataset(attn_mask, hidden_states)\n",
        "    input_loader = DataLoader(input_ds, num_workers=2, shuffle=True, batch_size=args.batch_size)\n",
        "\n",
        "    print(f'\\nLayer {i}')\n",
        "\n",
        "    layer.attention = prune_attn_layer(args, layer.attention, input_loader, head_mask[i], val_arguments, layer_id=i, device=device)\n",
        "\n",
        "    if args.finetune_layer:\n",
        "      if args.validate_layer:\n",
        "        val_arguments['model'].distilbert.transformer = pruned_transformer\n",
        "        mets = validate(args, **val_arguments, device=device)\n",
        "        all_val_mets[f'layer {i}'] = mets\n",
        "        print(f'Validation metrics after pruning layer {i}, before fine-tuning = {mets}')\n",
        "\n",
        "      layer.attn = run_finetuning()\n",
        "\n",
        "    layer = layer.to(device)\n",
        "    hidden_states = hidden_states.to(device)\n",
        "    attn_mask = attn_mask.to(device)\n",
        "\n",
        "    with torch.no_grad():\n",
        "      hidden_states = layer(\n",
        "          x=hidden_states,\n",
        "          attn_mask=attn_mask,\n",
        "          output_attentions=output_attentions,\n",
        "          head_mask=head_mask[i]\n",
        "      )[-1]\n",
        "\n",
        "    layer = layer.cpu()\n",
        "    hidden_states = hidden_states.cpu()\n",
        "    attn_mask = attn_mask.cpu()\n",
        "\n",
        "    del input_ds\n",
        "    del input_loader\n",
        "\n",
        "    if args.validate_layer:\n",
        "      val_arguments['model'].distilbert.transformer = pruned_transformer\n",
        "      mets = validate(args, **val_arguments, device=device)\n",
        "      all_val_mets[f'layer {i}'] = mets\n",
        "      print(f'Validation metrics after pruning layer {i}, after fine-tuning = {mets}')\n",
        "\n",
        "    if args.validate_iter:\n",
        "      val_arguments['model'].distilbert.transformer = pruned_transformer\n",
        "\n",
        "    # print(f'after pruning : shape of W_q = {layer.attention.q_lin}, n_heads = {layer.attention.n_heads}, shape of hidden_states = {hidden_states.shape}')\n",
        "\n",
        "  if args.verbose:\n",
        "    print(pruned_transformer)\n",
        "  return pruned_transformer, all_val_mets"
      ]
    },
    {
      "cell_type": "markdown",
      "metadata": {
        "id": "Ct-NLK-1SI8j"
      },
      "source": [
        "## prune layer"
      ]
    },
    {
      "cell_type": "code",
      "execution_count": null,
      "metadata": {
        "id": "ijhMW7M8SObB"
      },
      "outputs": [],
      "source": [
        "def prune_attn_layer(args, layer, input_loader, head_mask, val_arguments, layer_id=None, device='cpu'):\n",
        "  pruned_layer = deepcopy(layer)\n",
        "  Q = deepcopy(pruned_layer)\n",
        "\n",
        "  n_heads_to_keep = int(pruned_layer.n_heads * args.s)\n",
        "  random_heads = random.sample(range(pruned_layer.n_heads), n_heads_to_keep)\n",
        "  S = set(random_heads) # heads to keep\n",
        "\n",
        "  pruned_layer = zero_out(S, pruned_layer) # zero out the heads of pruned_layer not in S\n",
        "\n",
        "  pruned_layer = pruned_layer.to(device)\n",
        "  Q = Q.to(device)\n",
        "\n",
        "  qkv_params = []\n",
        "  out_params = []\n",
        "  for name, param in Q.named_parameters():\n",
        "    if 'out' in name:\n",
        "      if 'weight' in name:\n",
        "        out_params.append(param)\n",
        "      else:\n",
        "        continue\n",
        "    else:\n",
        "      qkv_params.append(param)\n",
        "\n",
        "  qkv_optimizer = SparseAdam(qkv_params, sparsity='row')\n",
        "  out_optimizer = SparseAdam(out_params, sparsity='col')\n",
        "\n",
        "  for t in range(args.T):\n",
        "    if args.validate_iter:\n",
        "      val_arguments['model'].distilbert.transformer.layer[layer_id].attention = pruned_layer\n",
        "      acc = validate(args, **val_arguments, device=device)\n",
        "      pruned_layer = pruned_layer.to(device)\n",
        "\n",
        "    attn_mask, hidden_states = next(iter(input_loader))\n",
        "    with torch.no_grad():\n",
        "      attn_mask = attn_mask.to(device)\n",
        "      hidden_states = hidden_states.to(device)\n",
        "      query, key, value = hidden_states, hidden_states, hidden_states\n",
        "      layer = layer.to(device)\n",
        "\n",
        "      expected_outputs = layer(\n",
        "          query=query,\n",
        "          key=key,\n",
        "          value=value,\n",
        "          mask=attn_mask,\n",
        "          output_attentions=False,\n",
        "          head_mask=head_mask\n",
        "      )[-1]\n",
        "      layer = layer.cpu()\n",
        "\n",
        "    dA, grad_dict, loss = compute_grads(pruned_layer, hidden_states, expected_outputs, attn_mask, head_mask, device=device)\n",
        "\n",
        "    if args.validate_iter:\n",
        "      print(f'Iteration {t}: S = {S} | Loss = {loss} | Exact Match = {acc[\"exact_match\"]} | F1 = {acc[\"f1\"]}')\n",
        "    elif args.iter_verbose:\n",
        "      print(f'Iteration {t}: S = {S} | Loss = {loss}')\n",
        "\n",
        "    D = find_and_merge(dA, S, n_heads_to_keep, device=device)\n",
        "    Q = update_step(Q, grad_dict, qkv_optimizer, out_optimizer, D, device=device)\n",
        "    pruned_layer, S = truncate(Q, hidden_states, expected_outputs, attn_mask, head_mask, n_heads_to_keep, device=device)\n",
        "    pruned_layer, Q = debias(pruned_layer, Q, S, hidden_states, expected_outputs, qkv_optimizer, out_optimizer, args.debias_iters, attn_mask, head_mask, eta=None, device=device)\n",
        "\n",
        "    del grad_dict\n",
        "    del dA\n",
        "\n",
        "  del Q\n",
        "  del layer\n",
        "\n",
        "  print(f'Post-pruning: S = {S}')\n",
        "  all_heads = set(range(pruned_layer.n_heads))\n",
        "  pruned_layer.prune_heads(all_heads.difference(S))\n",
        "  if layer_id is not None:\n",
        "    print(f'Done pruning layer {layer_id}')\n",
        "\n",
        "  return pruned_layer"
      ]
    },
    {
      "cell_type": "markdown",
      "source": [
        "## run"
      ],
      "metadata": {
        "id": "jVw1rRg3bZPk"
      }
    },
    {
      "cell_type": "code",
      "source": [
        "args = {\n",
        "    'validate_iter': False,\n",
        "    'validate_layer': True,\n",
        "    'T': 10,\n",
        "    's': 0.3,\n",
        "    'debias_iters': 0,\n",
        "    'min_layer': 0,\n",
        "    'max_layer': 10,\n",
        "    'batch_size': 16,\n",
        "    'val_size': 100,\n",
        "    'verbose': False,\n",
        "    'iter_verbose': False,\n",
        "    'dataset': 'squad',\n",
        "    'save_model': False,\n",
        "    'runs': 5,\n",
        "}\n",
        "args = dotdict(args)"
      ],
      "metadata": {
        "id": "fo338LR71j1V"
      },
      "execution_count": null,
      "outputs": []
    },
    {
      "cell_type": "code",
      "source": [
        "tokenizer = DistilBertTokenizer.from_pretrained('distilbert-base-uncased-distilled-squad')\n",
        "model = DistilBertForQuestionAnswering.from_pretrained('distilbert-base-uncased-distilled-squad')\n",
        "train_ds, val_ds, test_ds = get_data(args.dataset)\n",
        "train_ds = train_ds[:160]"
      ],
      "metadata": {
        "id": "zbN7CEvhitEJ"
      },
      "execution_count": null,
      "outputs": []
    },
    {
      "cell_type": "code",
      "source": [
        "device = 'cuda' if torch.cuda.is_available() else 'cpu'\n",
        "# device = 'cpu'\n",
        "print(device)\n",
        "start_time = time.time()\n",
        "\n",
        "all_run_mets = []\n",
        "for i in range(args.runs):\n",
        "  print(f'\\nRun {i}')\n",
        "  train_ds, val_ds, test_ds = get_data(args.dataset)\n",
        "  train_ds = train_ds[:160]\n",
        "  run_mets = prune_distilbert(args, model, tokenizer, train_ds, test_ds, device=device)\n",
        "  all_run_mets.append(run_mets)\n",
        "end_time = time.time()\n",
        "\n",
        "print(f'average run time = {(end_time - start_time) / args.runs}s')\n",
        "torch.cuda.empty_cache()"
      ],
      "metadata": {
        "colab": {
          "base_uri": "https://localhost:8080/"
        },
        "id": "k08tKxJFp1dA",
        "outputId": "4acdbb2d-fedb-465a-e5b9-e83ede5ed215"
      },
      "execution_count": null,
      "outputs": [
        {
          "output_type": "stream",
          "name": "stdout",
          "text": [
            "cuda\n",
            "\n",
            "Run 0\n",
            "Pre-pruning validation metrics = {'exact_match': 74.0, 'f1': 85.7533829029336}\n",
            "\n",
            "Layer 0\n",
            "Post-pruning: S = {8, 1, 3}\n",
            "Done pruning layer 0\n",
            "Validation metrics after pruning layer 0 = {'exact_match': 68.0, 'f1': 81.94598198345255}\n",
            "\n",
            "Layer 1\n",
            "Post-pruning: S = {1, 2, 4}\n",
            "Done pruning layer 1\n",
            "Validation metrics after pruning layer 1 = {'exact_match': 52.0, 'f1': 63.72854238984269}\n",
            "\n",
            "Layer 2\n",
            "Post-pruning: S = {3, 4, 6}\n",
            "Done pruning layer 2\n",
            "Validation metrics after pruning layer 2 = {'exact_match': 40.0, 'f1': 49.05432104485805}\n",
            "\n",
            "Layer 3\n",
            "Post-pruning: S = {2, 3, 4}\n",
            "Done pruning layer 3\n",
            "Validation metrics after pruning layer 3 = {'exact_match': 30.0, 'f1': 35.763421054718414}\n",
            "\n",
            "Layer 4\n",
            "Post-pruning: S = {2, 4, 6}\n",
            "Done pruning layer 4\n",
            "Validation metrics after pruning layer 4 = {'exact_match': 16.0, 'f1': 22.208452547991293}\n",
            "\n",
            "Layer 5\n",
            "Post-pruning: S = {8, 9, 4}\n",
            "Done pruning layer 5\n",
            "Validation metrics after pruning layer 5 = {'exact_match': 14.0, 'f1': 19.049786238483996}\n",
            "\n",
            "Run 1\n",
            "Pre-pruning validation metrics = {'exact_match': 77.0, 'f1': 84.00531135531135}\n",
            "\n",
            "Layer 0\n",
            "Post-pruning: S = {8, 1, 3}\n",
            "Done pruning layer 0\n",
            "Validation metrics after pruning layer 0 = {'exact_match': 69.0, 'f1': 77.85000000000001}\n",
            "\n",
            "Layer 1\n",
            "Post-pruning: S = {1, 2, 4}\n",
            "Done pruning layer 1\n",
            "Validation metrics after pruning layer 1 = {'exact_match': 48.0, 'f1': 60.40448179271707}\n",
            "\n",
            "Layer 2\n",
            "Post-pruning: S = {3, 4, 6}\n",
            "Done pruning layer 2\n",
            "Validation metrics after pruning layer 2 = {'exact_match': 37.0, 'f1': 46.78304035123039}\n",
            "\n",
            "Layer 3\n",
            "Post-pruning: S = {2, 4, 5}\n",
            "Done pruning layer 3\n",
            "Validation metrics after pruning layer 3 = {'exact_match': 17.0, 'f1': 23.79283316089917}\n",
            "\n",
            "Layer 4\n",
            "Post-pruning: S = {2, 4, 6}\n",
            "Done pruning layer 4\n",
            "Validation metrics after pruning layer 4 = {'exact_match': 9.0, 'f1': 14.631072517104737}\n",
            "\n",
            "Layer 5\n",
            "Post-pruning: S = {9, 4, 5}\n",
            "Done pruning layer 5\n",
            "Validation metrics after pruning layer 5 = {'exact_match': 8.0, 'f1': 11.293494892928484}\n",
            "\n",
            "Run 2\n",
            "Pre-pruning validation metrics = {'exact_match': 73.0, 'f1': 84.72658043710675}\n",
            "\n",
            "Layer 0\n",
            "Post-pruning: S = {8, 1, 3}\n",
            "Done pruning layer 0\n",
            "Validation metrics after pruning layer 0 = {'exact_match': 67.0, 'f1': 80.51613123718387}\n",
            "\n",
            "Layer 1\n",
            "Post-pruning: S = {1, 2, 4}\n",
            "Done pruning layer 1\n",
            "Validation metrics after pruning layer 1 = {'exact_match': 51.0, 'f1': 62.777665196860234}\n",
            "\n",
            "Layer 2\n",
            "Post-pruning: S = {3, 4, 6}\n",
            "Done pruning layer 2\n",
            "Validation metrics after pruning layer 2 = {'exact_match': 39.0, 'f1': 47.981795982201405}\n",
            "\n",
            "Layer 3\n",
            "Post-pruning: S = {2, 4, 5}\n",
            "Done pruning layer 3\n",
            "Validation metrics after pruning layer 3 = {'exact_match': 26.0, 'f1': 32.620632994117294}\n",
            "\n",
            "Layer 4\n",
            "Post-pruning: S = {2, 4, 6}\n",
            "Done pruning layer 4\n",
            "Validation metrics after pruning layer 4 = {'exact_match': 13.0, 'f1': 19.181602137699695}\n",
            "\n",
            "Layer 5\n",
            "Post-pruning: S = {8, 4, 6}\n",
            "Done pruning layer 5\n",
            "Validation metrics after pruning layer 5 = {'exact_match': 11.0, 'f1': 16.436824091191134}\n",
            "\n",
            "Run 3\n",
            "Pre-pruning validation metrics = {'exact_match': 74.0, 'f1': 84.03886113886112}\n",
            "\n",
            "Layer 0\n",
            "Post-pruning: S = {8, 1, 3}\n",
            "Done pruning layer 0\n",
            "Validation metrics after pruning layer 0 = {'exact_match': 69.0, 'f1': 79.70460241512873}\n",
            "\n",
            "Layer 1\n",
            "Post-pruning: S = {1, 2, 4}\n",
            "Done pruning layer 1\n",
            "Validation metrics after pruning layer 1 = {'exact_match': 53.0, 'f1': 60.74618714618714}\n",
            "\n",
            "Layer 2\n",
            "Post-pruning: S = {3, 4, 6}\n",
            "Done pruning layer 2\n",
            "Validation metrics after pruning layer 2 = {'exact_match': 40.0, 'f1': 49.47045479203297}\n",
            "\n",
            "Layer 3\n",
            "Post-pruning: S = {2, 4, 5}\n",
            "Done pruning layer 3\n",
            "Validation metrics after pruning layer 3 = {'exact_match': 26.0, 'f1': 32.83125034868627}\n",
            "\n",
            "Layer 4\n",
            "Post-pruning: S = {2, 4, 6}\n",
            "Done pruning layer 4\n",
            "Validation metrics after pruning layer 4 = {'exact_match': 15.0, 'f1': 20.007503795822473}\n",
            "\n",
            "Layer 5\n",
            "Post-pruning: S = {8, 4, 6}\n",
            "Done pruning layer 5\n",
            "Validation metrics after pruning layer 5 = {'exact_match': 10.0, 'f1': 14.583238937819038}\n",
            "\n",
            "Run 4\n",
            "Pre-pruning validation metrics = {'exact_match': 74.0, 'f1': 84.03886113886112}\n",
            "\n",
            "Layer 0\n",
            "Post-pruning: S = {8, 1, 3}\n",
            "Done pruning layer 0\n",
            "Validation metrics after pruning layer 0 = {'exact_match': 68.0, 'f1': 79.37126908179539}\n",
            "\n",
            "Layer 1\n",
            "Post-pruning: S = {1, 2, 4}\n",
            "Done pruning layer 1\n",
            "Validation metrics after pruning layer 1 = {'exact_match': 55.0, 'f1': 62.66666666666666}\n",
            "\n",
            "Layer 2\n",
            "Post-pruning: S = {3, 4, 6}\n",
            "Done pruning layer 2\n",
            "Validation metrics after pruning layer 2 = {'exact_match': 39.0, 'f1': 49.77137054294872}\n",
            "\n",
            "Layer 3\n",
            "Post-pruning: S = {3, 4, 5}\n",
            "Done pruning layer 3\n",
            "Validation metrics after pruning layer 3 = {'exact_match': 25.0, 'f1': 32.3890412097628}\n",
            "\n",
            "Layer 4\n",
            "Post-pruning: S = {2, 4, 6}\n",
            "Done pruning layer 4\n",
            "Validation metrics after pruning layer 4 = {'exact_match': 15.0, 'f1': 20.18705023522097}\n",
            "\n",
            "Layer 5\n",
            "Post-pruning: S = {1, 4, 6}\n",
            "Done pruning layer 5\n",
            "Validation metrics after pruning layer 5 = {'exact_match': 12.0, 'f1': 17.98088454003088}\n",
            "average run time = 38.77457227706909s\n"
          ]
        }
      ]
    },
    {
      "cell_type": "code",
      "source": [
        "all_run_mets"
      ],
      "metadata": {
        "colab": {
          "base_uri": "https://localhost:8080/"
        },
        "id": "nvjcifgktoXe",
        "outputId": "45741d7c-3acf-4492-c12e-63b862d538c2"
      },
      "execution_count": null,
      "outputs": [
        {
          "output_type": "execute_result",
          "data": {
            "text/plain": [
              "[{'pre-pruning': {'exact_match': 74.0, 'f1': 85.7533829029336},\n",
              "  'layer 0': {'exact_match': 68.0, 'f1': 81.94598198345255},\n",
              "  'layer 1': {'exact_match': 52.0, 'f1': 63.72854238984269},\n",
              "  'layer 2': {'exact_match': 40.0, 'f1': 49.05432104485805},\n",
              "  'layer 3': {'exact_match': 30.0, 'f1': 35.763421054718414},\n",
              "  'layer 4': {'exact_match': 16.0, 'f1': 22.208452547991293},\n",
              "  'layer 5': {'exact_match': 14.0, 'f1': 19.049786238483996}},\n",
              " {'pre-pruning': {'exact_match': 77.0, 'f1': 84.00531135531135},\n",
              "  'layer 0': {'exact_match': 69.0, 'f1': 77.85000000000001},\n",
              "  'layer 1': {'exact_match': 48.0, 'f1': 60.40448179271707},\n",
              "  'layer 2': {'exact_match': 37.0, 'f1': 46.78304035123039},\n",
              "  'layer 3': {'exact_match': 17.0, 'f1': 23.79283316089917},\n",
              "  'layer 4': {'exact_match': 9.0, 'f1': 14.631072517104737},\n",
              "  'layer 5': {'exact_match': 8.0, 'f1': 11.293494892928484}},\n",
              " {'pre-pruning': {'exact_match': 73.0, 'f1': 84.72658043710675},\n",
              "  'layer 0': {'exact_match': 67.0, 'f1': 80.51613123718387},\n",
              "  'layer 1': {'exact_match': 51.0, 'f1': 62.777665196860234},\n",
              "  'layer 2': {'exact_match': 39.0, 'f1': 47.981795982201405},\n",
              "  'layer 3': {'exact_match': 26.0, 'f1': 32.620632994117294},\n",
              "  'layer 4': {'exact_match': 13.0, 'f1': 19.181602137699695},\n",
              "  'layer 5': {'exact_match': 11.0, 'f1': 16.436824091191134}},\n",
              " {'pre-pruning': {'exact_match': 74.0, 'f1': 84.03886113886112},\n",
              "  'layer 0': {'exact_match': 69.0, 'f1': 79.70460241512873},\n",
              "  'layer 1': {'exact_match': 53.0, 'f1': 60.74618714618714},\n",
              "  'layer 2': {'exact_match': 40.0, 'f1': 49.47045479203297},\n",
              "  'layer 3': {'exact_match': 26.0, 'f1': 32.83125034868627},\n",
              "  'layer 4': {'exact_match': 15.0, 'f1': 20.007503795822473},\n",
              "  'layer 5': {'exact_match': 10.0, 'f1': 14.583238937819038}},\n",
              " {'pre-pruning': {'exact_match': 74.0, 'f1': 84.03886113886112},\n",
              "  'layer 0': {'exact_match': 68.0, 'f1': 79.37126908179539},\n",
              "  'layer 1': {'exact_match': 55.0, 'f1': 62.66666666666666},\n",
              "  'layer 2': {'exact_match': 39.0, 'f1': 49.77137054294872},\n",
              "  'layer 3': {'exact_match': 25.0, 'f1': 32.3890412097628},\n",
              "  'layer 4': {'exact_match': 15.0, 'f1': 20.18705023522097},\n",
              "  'layer 5': {'exact_match': 12.0, 'f1': 17.98088454003088}}]"
            ]
          },
          "metadata": {},
          "execution_count": 33
        }
      ]
    },
    {
      "cell_type": "code",
      "source": [
        "mets_by_score = []\n",
        "for run in all_run_mets: # all_run_mets is an array of dicts, each run should be a dict\n",
        "  metrics = run['pre-pruning'].keys()\n",
        "  run_metrics = {met: [0 for _ in run.keys()] for met in metrics}\n",
        "  for i, layer in enumerate(run.keys()):\n",
        "    for met in metrics:\n",
        "      run_metrics[met][i] = run[layer][met]\n",
        "  mets_by_score.append(run_metrics)\n",
        "mets_by_score"
      ],
      "metadata": {
        "colab": {
          "base_uri": "https://localhost:8080/"
        },
        "id": "BPnyGllnlcdx",
        "outputId": "cf789be2-187c-44f9-c33e-93ca36b9c9db"
      },
      "execution_count": null,
      "outputs": [
        {
          "output_type": "execute_result",
          "data": {
            "text/plain": [
              "[{'exact_match': [74.0, 68.0, 52.0, 40.0, 30.0, 16.0, 14.0],\n",
              "  'f1': [85.7533829029336,\n",
              "   81.94598198345255,\n",
              "   63.72854238984269,\n",
              "   49.05432104485805,\n",
              "   35.763421054718414,\n",
              "   22.208452547991293,\n",
              "   19.049786238483996]},\n",
              " {'exact_match': [77.0, 69.0, 48.0, 37.0, 17.0, 9.0, 8.0],\n",
              "  'f1': [84.00531135531135,\n",
              "   77.85000000000001,\n",
              "   60.40448179271707,\n",
              "   46.78304035123039,\n",
              "   23.79283316089917,\n",
              "   14.631072517104737,\n",
              "   11.293494892928484]},\n",
              " {'exact_match': [73.0, 67.0, 51.0, 39.0, 26.0, 13.0, 11.0],\n",
              "  'f1': [84.72658043710675,\n",
              "   80.51613123718387,\n",
              "   62.777665196860234,\n",
              "   47.981795982201405,\n",
              "   32.620632994117294,\n",
              "   19.181602137699695,\n",
              "   16.436824091191134]},\n",
              " {'exact_match': [74.0, 69.0, 53.0, 40.0, 26.0, 15.0, 10.0],\n",
              "  'f1': [84.03886113886112,\n",
              "   79.70460241512873,\n",
              "   60.74618714618714,\n",
              "   49.47045479203297,\n",
              "   32.83125034868627,\n",
              "   20.007503795822473,\n",
              "   14.583238937819038]},\n",
              " {'exact_match': [74.0, 68.0, 55.0, 39.0, 25.0, 15.0, 12.0],\n",
              "  'f1': [84.03886113886112,\n",
              "   79.37126908179539,\n",
              "   62.66666666666666,\n",
              "   49.77137054294872,\n",
              "   32.3890412097628,\n",
              "   20.18705023522097,\n",
              "   17.98088454003088]}]"
            ]
          },
          "metadata": {},
          "execution_count": 43
        }
      ]
    },
    {
      "cell_type": "code",
      "source": [
        "import matplotlib.pyplot as plt\n",
        "\n",
        "metrics = list(mets_by_score[0].keys())\n",
        "for met in metrics:\n",
        "  for i, exp in enumerate(mets_by_score):\n",
        "    data = exp[met]\n",
        "    plt.plot(data, label=f\"Run {i}\")\n",
        "  plt.legend()\n",
        "  plt.ylabel('score')\n",
        "  plt.xlabel('before pruning layer')\n",
        "  plt.title(f'implementation (b), {met} by run')\n",
        "  plt.show()\n",
        "# for exp in avgs_by_exp:"
      ],
      "metadata": {
        "colab": {
          "base_uri": "https://localhost:8080/",
          "height": 927
        },
        "id": "tZgFs85le-Tl",
        "outputId": "a41c3ace-09e8-4bb3-d2fb-d893b9a485a4"
      },
      "execution_count": null,
      "outputs": [
        {
          "output_type": "display_data",
          "data": {
            "text/plain": [
              "<Figure size 640x480 with 1 Axes>"
            ],
            "image/png": "[encoded data removed]"
          },
          "metadata": {}
        },
        {
          "output_type": "display_data",
          "data": {
            "text/plain": [
              "<Figure size 640x480 with 1 Axes>"
            ],
            "image/png": "[encoded data removed]"
          },
          "metadata": {}
        }
      ]
    },
    {
      "cell_type": "markdown",
      "metadata": {
        "id": "ESK7q33TVq93"
      },
      "source": [
        "## data exploration"
      ]
    },
    {
      "cell_type": "code",
      "execution_count": null,
      "metadata": {
        "id": "uUNpBnIfWhVW"
      },
      "outputs": [],
      "source": [
        "from datasets import load_dataset"
      ]
    },
    {
      "cell_type": "code",
      "source": [
        "train_ds, _, _ = get_data('squad')\n",
        "train_ds = train_ds[:100]\n",
        "print(train_ds[:2]['answers'])\n",
        "print(test[11:20]['answers'])\n",
        "print(val[:10]['answers'])"
      ],
      "metadata": {
        "id": "sc8aNjqcx4Kv",
        "colab": {
          "base_uri": "https://localhost:8080/",
          "height": 292,
          "referenced_widgets": [
            "840c8f41fa314a5cbe5b15015d622430",
            "86ae881225544e3c98e444e2be221b93",
            "d45ac857647d4daea04a7f5b1e855c68",
            "bb28755ba1774f0883049032501d406d",
            "9f4aa6d8bd284cf78b2289e83ce9f90e",
            "9214842efbd349ff8303071a33423fc1",
            "e14245512d554ce9b1c3e18849f5ae5a",
            "66f7a7c431f043f4812b4fd47f3fd5c3",
            "63139672a41247b3adeed329ea126e5c",
            "be3b2d9ed4154434b872c7fcc6c0c8f8",
            "793ae45e4eb34ac5b4d15054abcc4fd1"
          ]
        },
        "outputId": "313f3cbd-aa18-4475-f53b-296c3ecb8ff0"
      },
      "execution_count": null,
      "outputs": [
        {
          "output_type": "stream",
          "name": "stderr",
          "text": [
            "WARNING:datasets.builder:Found cached dataset squad (/root/.cache/huggingface/datasets/squad/plain_text/1.0.0/d6ec3ceb99ca480ce37cdd35555d6cb2511d223b9150cce08a837ef62ffea453)\n"
          ]
        },
        {
          "output_type": "display_data",
          "data": {
            "text/plain": [
              "  0%|          | 0/2 [00:00<?, ?it/s]"
            ],
            "application/vnd.jupyter.widget-view+json": {
              "version_major": 2,
              "version_minor": 0,
              "model_id": "840c8f41fa314a5cbe5b15015d622430"
            }
          },
          "metadata": {}
        },
        {
          "output_type": "error",
          "ename": "TypeError",
          "evalue": "ignored",
          "traceback": [
            "\u001b[0;31m---------------------------------------------------------------------------\u001b[0m",
            "\u001b[0;31mTypeError\u001b[0m                                 Traceback (most recent call last)",
            "\u001b[0;32m<ipython-input-54-7758efbfa13a>\u001b[0m in \u001b[0;36m<cell line: 3>\u001b[0;34m()\u001b[0m\n\u001b[1;32m      1\u001b[0m \u001b[0mtrain_ds\u001b[0m\u001b[0;34m,\u001b[0m \u001b[0m_\u001b[0m\u001b[0;34m,\u001b[0m \u001b[0m_\u001b[0m \u001b[0;34m=\u001b[0m \u001b[0mget_data\u001b[0m\u001b[0;34m(\u001b[0m\u001b[0;34m'squad'\u001b[0m\u001b[0;34m)\u001b[0m\u001b[0;34m\u001b[0m\u001b[0;34m\u001b[0m\u001b[0m\n\u001b[1;32m      2\u001b[0m \u001b[0mtrain_ds\u001b[0m \u001b[0;34m=\u001b[0m \u001b[0mtrain_ds\u001b[0m\u001b[0;34m[\u001b[0m\u001b[0;34m:\u001b[0m\u001b[0;36m100\u001b[0m\u001b[0;34m]\u001b[0m\u001b[0;34m\u001b[0m\u001b[0;34m\u001b[0m\u001b[0m\n\u001b[0;32m----> 3\u001b[0;31m \u001b[0mprint\u001b[0m\u001b[0;34m(\u001b[0m\u001b[0mtrain_ds\u001b[0m\u001b[0;34m[\u001b[0m\u001b[0;34m:\u001b[0m\u001b[0;36m2\u001b[0m\u001b[0;34m]\u001b[0m\u001b[0;34m[\u001b[0m\u001b[0;34m'answers'\u001b[0m\u001b[0;34m]\u001b[0m\u001b[0;34m)\u001b[0m\u001b[0;34m\u001b[0m\u001b[0;34m\u001b[0m\u001b[0m\n\u001b[0m\u001b[1;32m      4\u001b[0m \u001b[0mprint\u001b[0m\u001b[0;34m(\u001b[0m\u001b[0mtest\u001b[0m\u001b[0;34m[\u001b[0m\u001b[0;36m11\u001b[0m\u001b[0;34m:\u001b[0m\u001b[0;36m20\u001b[0m\u001b[0;34m]\u001b[0m\u001b[0;34m[\u001b[0m\u001b[0;34m'answers'\u001b[0m\u001b[0;34m]\u001b[0m\u001b[0;34m)\u001b[0m\u001b[0;34m\u001b[0m\u001b[0;34m\u001b[0m\u001b[0m\n\u001b[1;32m      5\u001b[0m \u001b[0mprint\u001b[0m\u001b[0;34m(\u001b[0m\u001b[0mval\u001b[0m\u001b[0;34m[\u001b[0m\u001b[0;34m:\u001b[0m\u001b[0;36m10\u001b[0m\u001b[0;34m]\u001b[0m\u001b[0;34m[\u001b[0m\u001b[0;34m'answers'\u001b[0m\u001b[0;34m]\u001b[0m\u001b[0;34m)\u001b[0m\u001b[0;34m\u001b[0m\u001b[0;34m\u001b[0m\u001b[0m\n",
            "\u001b[0;31mTypeError\u001b[0m: unhashable type: 'slice'"
          ]
        }
      ]
    },
    {
      "cell_type": "code",
      "source": [
        "num_examples = len(questions)\n",
        "for i in range(num_examples):\n",
        "  answer_start_index = torch.argmax(outputs.start_logits[i])\n",
        "  answer_end_index = torch.argmax(outputs.end_logits[i])\n",
        "  predict_answer_tokens = inputs.input_ids[i, answer_start_index : answer_end_index + 1]\n",
        "  answer = tokenizer.decode(predict_answer_tokens)\n",
        "  print('TEXT:', texts[i])\n",
        "  print('QUESTION:', questions[i])\n",
        "  print('ANSWER:', answer)\n",
        "  print()"
      ],
      "metadata": {
        "id": "QVfoVQ5Iu5kT"
      },
      "execution_count": null,
      "outputs": []
    },
    {
      "cell_type": "code",
      "source": [
        "answers = test_ds[:10]['answers']\n",
        "for answer in answers:\n",
        "  print(answer['text'])"
      ],
      "metadata": {
        "colab": {
          "base_uri": "https://localhost:8080/"
        },
        "id": "bNax0fLhe7iA",
        "outputId": "fe689641-ef15-4359-ab82-c77bbaedb21e"
      },
      "execution_count": null,
      "outputs": [
        {
          "output_type": "stream",
          "name": "stdout",
          "text": [
            "['Denver Broncos', 'Denver Broncos', 'Denver Broncos']\n",
            "['Carolina Panthers', 'Carolina Panthers', 'Carolina Panthers']\n",
            "['Santa Clara, California', \"Levi's Stadium\", \"Levi's Stadium in the San Francisco Bay Area at Santa Clara, California.\"]\n",
            "['Denver Broncos', 'Denver Broncos', 'Denver Broncos']\n",
            "['gold', 'gold', 'gold']\n",
            "['\"golden anniversary\"', 'gold-themed', '\"golden anniversary']\n",
            "['February 7, 2016', 'February 7', 'February 7, 2016']\n",
            "['American Football Conference', 'American Football Conference', 'American Football Conference']\n",
            "['\"golden anniversary\"', 'gold-themed', 'gold']\n",
            "['American Football Conference', 'American Football Conference', 'American Football Conference']\n"
          ]
        }
      ]
    },
    {
      "cell_type": "code",
      "source": [
        "print(val_ds[:10]['id'])"
      ],
      "metadata": {
        "colab": {
          "base_uri": "https://localhost:8080/"
        },
        "id": "OU6-XL1ikY7e",
        "outputId": "77514e51-2a06-4f48-e370-591e339f8490"
      },
      "execution_count": null,
      "outputs": [
        {
          "output_type": "stream",
          "name": "stdout",
          "text": [
            "['56e074547aa994140058e4fd', '57302d3ab2c2fd14005689f9', '572f9c0bb2c2fd1400568243', '57281922ff5b5019007d9d3e', '5726ed33f1498d1400e8f006', '57351714879d6814001cab17', '57272dbd708984140094daa9', '56f82a24aef2371900625e76', '5706f6a790286e26004fc777', '572f0842cb0c0d14000f1720']\n"
          ]
        }
      ]
    }
  ],
  "metadata": {
    "colab": {
      "provenance": [],
      "collapsed_sections": [
        "O3qZ8rlt8Qpz",
        "zDSlbyIb8WAA",
        "skR8mj0c8c7i",
        "9guWG7Dd27KE",
        "VdryzDILQYua",
        "8EN5SnK6QiTb",
        "K0mGPnklQ6RB",
        "Mzzs5h5eRbBZ",
        "1il8obD1Ru_C",
        "IHk6P4I8Gxdw",
        "Ct-NLK-1SI8j",
        "ESK7q33TVq93"
      ],
      "gpuType": "T4"
    },
    "kernelspec": {
      "display_name": "Python 3",
      "name": "python3"
    },
    "language_info": {
      "name": "python"
    },
    "accelerator": "GPU",
    "widgets": {
      "application/vnd.jupyter.widget-state+json": {
        "840c8f41fa314a5cbe5b15015d622430": {
          "model_module": "@jupyter-widgets/controls",
          "model_name": "HBoxModel",
          "model_module_version": "1.5.0",
          "state": {
            "_dom_classes": [],
            "_model_module": "@jupyter-widgets/controls",
            "_model_module_version": "1.5.0",
            "_model_name": "HBoxModel",
            "_view_count": null,
            "_view_module": "@jupyter-widgets/controls",
            "_view_module_version": "1.5.0",
            "_view_name": "HBoxView",
            "box_style": "",
            "children": [
              "IPY_MODEL_86ae881225544e3c98e444e2be221b93",
              "IPY_MODEL_d45ac857647d4daea04a7f5b1e855c68",
              "IPY_MODEL_bb28755ba1774f0883049032501d406d"
            ],
            "layout": "IPY_MODEL_9f4aa6d8bd284cf78b2289e83ce9f90e"
          }
        },
        "86ae881225544e3c98e444e2be221b93": {
          "model_module": "@jupyter-widgets/controls",
          "model_name": "HTMLModel",
          "model_module_version": "1.5.0",
          "state": {
            "_dom_classes": [],
            "_model_module": "@jupyter-widgets/controls",
            "_model_module_version": "1.5.0",
            "_model_name": "HTMLModel",
            "_view_count": null,
            "_view_module": "@jupyter-widgets/controls",
            "_view_module_version": "1.5.0",
            "_view_name": "HTMLView",
            "description": "",
            "description_tooltip": null,
            "layout": "IPY_MODEL_9214842efbd349ff8303071a33423fc1",
            "placeholder": "​",
            "style": "IPY_MODEL_e14245512d554ce9b1c3e18849f5ae5a",
            "value": "100%"
          }
        },
        "d45ac857647d4daea04a7f5b1e855c68": {
          "model_module": "@jupyter-widgets/controls",
          "model_name": "FloatProgressModel",
          "model_module_version": "1.5.0",
          "state": {
            "_dom_classes": [],
            "_model_module": "@jupyter-widgets/controls",
            "_model_module_version": "1.5.0",
            "_model_name": "FloatProgressModel",
            "_view_count": null,
            "_view_module": "@jupyter-widgets/controls",
            "_view_module_version": "1.5.0",
            "_view_name": "ProgressView",
            "bar_style": "success",
            "description": "",
            "description_tooltip": null,
            "layout": "IPY_MODEL_66f7a7c431f043f4812b4fd47f3fd5c3",
            "max": 2,
            "min": 0,
            "orientation": "horizontal",
            "style": "IPY_MODEL_63139672a41247b3adeed329ea126e5c",
            "value": 2
          }
        },
        "bb28755ba1774f0883049032501d406d": {
          "model_module": "@jupyter-widgets/controls",
          "model_name": "HTMLModel",
          "model_module_version": "1.5.0",
          "state": {
            "_dom_classes": [],
            "_model_module": "@jupyter-widgets/controls",
            "_model_module_version": "1.5.0",
            "_model_name": "HTMLModel",
            "_view_count": null,
            "_view_module": "@jupyter-widgets/controls",
            "_view_module_version": "1.5.0",
            "_view_name": "HTMLView",
            "description": "",
            "description_tooltip": null,
            "layout": "IPY_MODEL_be3b2d9ed4154434b872c7fcc6c0c8f8",
            "placeholder": "​",
            "style": "IPY_MODEL_793ae45e4eb34ac5b4d15054abcc4fd1",
            "value": " 2/2 [00:00&lt;00:00, 27.86it/s]"
          }
        },
        "9f4aa6d8bd284cf78b2289e83ce9f90e": {
          "model_module": "@jupyter-widgets/base",
          "model_name": "LayoutModel",
          "model_module_version": "1.2.0",
          "state": {
            "_model_module": "@jupyter-widgets/base",
            "_model_module_version": "1.2.0",
            "_model_name": "LayoutModel",
            "_view_count": null,
            "_view_module": "@jupyter-widgets/base",
            "_view_module_version": "1.2.0",
            "_view_name": "LayoutView",
            "align_content": null,
            "align_items": null,
            "align_self": null,
            "border": null,
            "bottom": null,
            "display": null,
            "flex": null,
            "flex_flow": null,
            "grid_area": null,
            "grid_auto_columns": null,
            "grid_auto_flow": null,
            "grid_auto_rows": null,
            "grid_column": null,
            "grid_gap": null,
            "grid_row": null,
            "grid_template_areas": null,
            "grid_template_columns": null,
            "grid_template_rows": null,
            "height": null,
            "justify_content": null,
            "justify_items": null,
            "left": null,
            "margin": null,
            "max_height": null,
            "max_width": null,
            "min_height": null,
            "min_width": null,
            "object_fit": null,
            "object_position": null,
            "order": null,
            "overflow": null,
            "overflow_x": null,
            "overflow_y": null,
            "padding": null,
            "right": null,
            "top": null,
            "visibility": null,
            "width": null
          }
        },
        "9214842efbd349ff8303071a33423fc1": {
          "model_module": "@jupyter-widgets/base",
          "model_name": "LayoutModel",
          "model_module_version": "1.2.0",
          "state": {
            "_model_module": "@jupyter-widgets/base",
            "_model_module_version": "1.2.0",
            "_model_name": "LayoutModel",
            "_view_count": null,
            "_view_module": "@jupyter-widgets/base",
            "_view_module_version": "1.2.0",
            "_view_name": "LayoutView",
            "align_content": null,
            "align_items": null,
            "align_self": null,
            "border": null,
            "bottom": null,
            "display": null,
            "flex": null,
            "flex_flow": null,
            "grid_area": null,
            "grid_auto_columns": null,
            "grid_auto_flow": null,
            "grid_auto_rows": null,
            "grid_column": null,
            "grid_gap": null,
            "grid_row": null,
            "grid_template_areas": null,
            "grid_template_columns": null,
            "grid_template_rows": null,
            "height": null,
            "justify_content": null,
            "justify_items": null,
            "left": null,
            "margin": null,
            "max_height": null,
            "max_width": null,
            "min_height": null,
            "min_width": null,
            "object_fit": null,
            "object_position": null,
            "order": null,
            "overflow": null,
            "overflow_x": null,
            "overflow_y": null,
            "padding": null,
            "right": null,
            "top": null,
            "visibility": null,
            "width": null
          }
        },
        "e14245512d554ce9b1c3e18849f5ae5a": {
          "model_module": "@jupyter-widgets/controls",
          "model_name": "DescriptionStyleModel",
          "model_module_version": "1.5.0",
          "state": {
            "_model_module": "@jupyter-widgets/controls",
            "_model_module_version": "1.5.0",
            "_model_name": "DescriptionStyleModel",
            "_view_count": null,
            "_view_module": "@jupyter-widgets/base",
            "_view_module_version": "1.2.0",
            "_view_name": "StyleView",
            "description_width": ""
          }
        },
        "66f7a7c431f043f4812b4fd47f3fd5c3": {
          "model_module": "@jupyter-widgets/base",
          "model_name": "LayoutModel",
          "model_module_version": "1.2.0",
          "state": {
            "_model_module": "@jupyter-widgets/base",
            "_model_module_version": "1.2.0",
            "_model_name": "LayoutModel",
            "_view_count": null,
            "_view_module": "@jupyter-widgets/base",
            "_view_module_version": "1.2.0",
            "_view_name": "LayoutView",
            "align_content": null,
            "align_items": null,
            "align_self": null,
            "border": null,
            "bottom": null,
            "display": null,
            "flex": null,
            "flex_flow": null,
            "grid_area": null,
            "grid_auto_columns": null,
            "grid_auto_flow": null,
            "grid_auto_rows": null,
            "grid_column": null,
            "grid_gap": null,
            "grid_row": null,
            "grid_template_areas": null,
            "grid_template_columns": null,
            "grid_template_rows": null,
            "height": null,
            "justify_content": null,
            "justify_items": null,
            "left": null,
            "margin": null,
            "max_height": null,
            "max_width": null,
            "min_height": null,
            "min_width": null,
            "object_fit": null,
            "object_position": null,
            "order": null,
            "overflow": null,
            "overflow_x": null,
            "overflow_y": null,
            "padding": null,
            "right": null,
            "top": null,
            "visibility": null,
            "width": null
          }
        },
        "63139672a41247b3adeed329ea126e5c": {
          "model_module": "@jupyter-widgets/controls",
          "model_name": "ProgressStyleModel",
          "model_module_version": "1.5.0",
          "state": {
            "_model_module": "@jupyter-widgets/controls",
            "_model_module_version": "1.5.0",
            "_model_name": "ProgressStyleModel",
            "_view_count": null,
            "_view_module": "@jupyter-widgets/base",
            "_view_module_version": "1.2.0",
            "_view_name": "StyleView",
            "bar_color": null,
            "description_width": ""
          }
        },
        "be3b2d9ed4154434b872c7fcc6c0c8f8": {
          "model_module": "@jupyter-widgets/base",
          "model_name": "LayoutModel",
          "model_module_version": "1.2.0",
          "state": {
            "_model_module": "@jupyter-widgets/base",
            "_model_module_version": "1.2.0",
            "_model_name": "LayoutModel",
            "_view_count": null,
            "_view_module": "@jupyter-widgets/base",
            "_view_module_version": "1.2.0",
            "_view_name": "LayoutView",
            "align_content": null,
            "align_items": null,
            "align_self": null,
            "border": null,
            "bottom": null,
            "display": null,
            "flex": null,
            "flex_flow": null,
            "grid_area": null,
            "grid_auto_columns": null,
            "grid_auto_flow": null,
            "grid_auto_rows": null,
            "grid_column": null,
            "grid_gap": null,
            "grid_row": null,
            "grid_template_areas": null,
            "grid_template_columns": null,
            "grid_template_rows": null,
            "height": null,
            "justify_content": null,
            "justify_items": null,
            "left": null,
            "margin": null,
            "max_height": null,
            "max_width": null,
            "min_height": null,
            "min_width": null,
            "object_fit": null,
            "object_position": null,
            "order": null,
            "overflow": null,
            "overflow_x": null,
            "overflow_y": null,
            "padding": null,
            "right": null,
            "top": null,
            "visibility": null,
            "width": null
          }
        },
        "793ae45e4eb34ac5b4d15054abcc4fd1": {
          "model_module": "@jupyter-widgets/controls",
          "model_name": "DescriptionStyleModel",
          "model_module_version": "1.5.0",
          "state": {
            "_model_module": "@jupyter-widgets/controls",
            "_model_module_version": "1.5.0",
            "_model_name": "DescriptionStyleModel",
            "_view_count": null,
            "_view_module": "@jupyter-widgets/base",
            "_view_module_version": "1.2.0",
            "_view_name": "StyleView",
            "description_width": ""
          }
        }
      }
    }
  },
  "nbformat": 4,
  "nbformat_minor": 0
}